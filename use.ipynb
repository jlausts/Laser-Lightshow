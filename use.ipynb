{
 "cells": [
  {
   "cell_type": "code",
   "execution_count": 1,
   "id": "47eb5221",
   "metadata": {},
   "outputs": [],
   "source": [
    "import importlib, numpy as np\n",
    "import laser\n",
    "from tqdm import tqdm\n",
    "from rich import print\n",
    "import pandas as pd\n",
    "from math import gcd, isclose\n",
    "import pickle\n",
    "import plotly.graph_objs as go\n",
    "from functools import reduce\n",
    "import plotly.express as px\n",
    "importlib.reload(laser)\n",
    "\n",
    "\n",
    "las = laser.Laser()"
   ]
  },
  {
   "cell_type": "code",
   "execution_count": 3,
   "id": "adf06027",
   "metadata": {},
   "outputs": [],
   "source": [
    "def float_gcd(a: float, b: float, scale: float = 1e6) -> float:\n",
    "    \"\"\"Approximate GCD for floats using integer scaling.\"\"\"\n",
    "    a_int, b_int = round(a * scale), round(b * scale)\n",
    "    return gcd(a_int, b_int) / scale\n",
    "\n",
    "def multi_float_gcd(freqs, scale: float = 1e6) -> float:\n",
    "    \"\"\"GCD of multiple float frequencies.\"\"\"\n",
    "    return reduce(lambda x, y: float_gcd(x, y, scale), freqs)\n",
    "\n",
    "def common_cycle_time(*hz_values, scale: float = 1e6) -> float:\n",
    "    \"\"\"Returns the time (in seconds) until all input frequencies align in phase.\"\"\"\n",
    "    if len(hz_values) == 1 and hasattr(hz_values[0], '__iter__'):\n",
    "        hz_values = list(hz_values[0])\n",
    "\n",
    "    hz_values = [f for f in hz_values if not isclose(f, 0)]\n",
    "    if not hz_values:\n",
    "        return 0.0\n",
    "\n",
    "    g = multi_float_gcd(hz_values, scale)\n",
    "    return 1 / g\n",
    "\n"
   ]
  },
  {
   "cell_type": "code",
   "execution_count": null,
   "id": "ede9178f",
   "metadata": {},
   "outputs": [],
   "source": [
    "# make chords\n",
    "\n",
    "min_cycle_time = 0.015\n",
    "\n",
    "start = round(1/min_cycle_time)\n",
    "stop = 1200\n",
    "hzs = np.arange(start, stop, .25)\n",
    "\n",
    "chords = []\n",
    "for i in tqdm(hzs):\n",
    "    arr = [i]\n",
    "    for j in hzs:\n",
    "        if j not in arr and common_cycle_time(*arr, j) < min_cycle_time:\n",
    "            arr.append(j)\n",
    "    chords.append(sorted(arr))\n",
    "\n",
    "\n",
    "with open('chords', 'wb') as fp:\n",
    "    pickle.dump(chords, fp)"
   ]
  },
  {
   "cell_type": "code",
   "execution_count": 10,
   "id": "810d49c3",
   "metadata": {},
   "outputs": [],
   "source": [
    "def max_amplitude(self: laser.Laser, arr: list, seconds=1):\n",
    "    print(arr)\n",
    "    color = [i for i in arr if i[0] in ['R', 'G', 'B']]\n",
    "    arr = [i for i in arr if i not in ['R', 'G', 'B']]\n",
    "\n",
    "    start_amp = [i[2] for i in arr]\n",
    "    new_amp = [i[2] for i in self.softmax_normalize_by_label(arr)]\n",
    "\n",
    "    steps = round(seconds * 159)\n",
    "    t_vals = np.linspace(0, 1, steps)\n",
    "    blend_vals = 0.5 * (1 - np.cos(np.pi * t_vals))  # cosine interpolation weights\n",
    "\n",
    "    # cosine-tempered transitions\n",
    "    trans = [\n",
    "        start + (end - start) * blend_vals\n",
    "        for start, end in zip(start_amp, new_amp)\n",
    "    ]\n",
    "\n",
    "    for amps in zip(*trans):\n",
    "        new_arr = [[i[0], i[1], amp] for amp, i in zip(amps, arr)] + color\n",
    "        self.send(new_arr, first=False)\n",
    "    return new_arr\n",
    "\n",
    "def transition(self: laser.Laser, start: list, end: list, color: list, seconds=2):\n",
    "    different_indexes = [n for n, (a, b) in enumerate(zip(start, end)) if not all([i==j for i, j in zip(a, b)])]\n",
    "    start_amp = [i[2] for i in self.softmax_normalize_by_label(start)]\n",
    "    mid = [i[2] for i in self.softmax_normalize_by_label([i if n not in different_indexes else [i[0], i[1], i[2] * -100000] for n, i in enumerate(start)])]\n",
    "    new_amp = [i[2] for i in self.softmax_normalize_by_label(end)]\n",
    "\n",
    "    # cosine-tempered transitions\n",
    "    cos = np.cos(np.pi * np.linspace(0, 1, round(seconds * 159/2)))\n",
    "    trans1 = [start + (end - start) * 0.5 * (1 - cos) for start, end in zip(start_amp, mid)]\n",
    "    trans2 = [start + (end - start) * 0.5 * (1 - cos) for start, end in zip(mid,   new_amp)]\n",
    "    full_transitions = np.array([list(a) + list(b) for a, b in zip(trans1, trans2)]).T\n",
    "\n",
    "    for i in full_transitions:\n",
    "        tmp = [[j[0], j[1], i[n]] for n, j in enumerate(end)]\n",
    "        self.send(tmp + color, first=False)\n",
    "    return tmp\n",
    "\n",
    "amp = 19\n",
    "color = [['R', amp], ['B', amp], ['G', amp]]\n",
    "arr1 = las.random_chord(6, 1)\n",
    "new = las.random_chord(6, 1)\n",
    "arr2 = [i for i in arr1]\n",
    "arr2[0] = new[0]\n",
    "\n",
    "arr = transition(las, arr1, arr2, color)\n",
    "las.show(arr, amp, 2, first=False)\n",
    "\n",
    "las.off()"
   ]
  },
  {
   "cell_type": "code",
   "execution_count": 19,
   "id": "ee5ee702",
   "metadata": {},
   "outputs": [],
   "source": [
    "las.off()"
   ]
  },
  {
   "cell_type": "code",
   "execution_count": null,
   "id": "16c9ad98",
   "metadata": {},
   "outputs": [],
   "source": [
    "print(arr)\n",
    "arr = max_amplitude(las, arr)\n",
    "\n",
    "print(arr)\n",
    "new_tone = las.random_chord(1, 1)[0]\n",
    "old_index = np.random.choice(list(range(len(arr)-3)))\n",
    "old_tone = arr.pop(old_index)\n",
    "print(arr)\n",
    "arr = transition(las, arr, old_tone, new_tone)\n",
    "\n",
    "arr = max_amplitude(las, arr)\n",
    "print(arr)\n",
    "las.off()"
   ]
  },
  {
   "cell_type": "code",
   "execution_count": null,
   "id": "8a58512b",
   "metadata": {},
   "outputs": [],
   "source": [
    "arr = las.random_chord()\n",
    "amp = 19\n",
    "las.show(arr + [['R', amp], ['B', amp], ['G', amp]], seconds=3)"
   ]
  },
  {
   "cell_type": "code",
   "execution_count": 60,
   "id": "75a01281",
   "metadata": {},
   "outputs": [],
   "source": [
    "with open('superGoodOnes', 'rb') as fp:\n",
    "    previous = pickle.load(fp)\n",
    "\n",
    "with open('superGoodOnes', 'wb') as fp:\n",
    "    pickle.dump(previous + [arr], fp)"
   ]
  },
  {
   "cell_type": "code",
   "execution_count": 7,
   "id": "327fae2b",
   "metadata": {},
   "outputs": [],
   "source": [
    "with open('goodOnes', 'rb') as fp:\n",
    "    previous = pickle.load(fp)\n",
    "\n",
    "with open('goodOnes', 'wb') as fp:\n",
    "    pickle.dump(previous + [arr], fp)"
   ]
  },
  {
   "cell_type": "code",
   "execution_count": 3,
   "id": "d0efce17",
   "metadata": {},
   "outputs": [],
   "source": [
    "with open('badOnes', 'rb') as fp:\n",
    "    previous = pickle.load(fp)\n",
    "\n",
    "with open('badOnes', 'wb') as fp:\n",
    "    pickle.dump(previous + [arr], fp)"
   ]
  },
  {
   "cell_type": "code",
   "execution_count": 17,
   "id": "ada6e008",
   "metadata": {},
   "outputs": [],
   "source": [
    "types = {}\n",
    "with open('badOnes', 'rb') as fp:\n",
    "    types['bad'] = pickle.load(fp)\n",
    "with open('goodOnes', 'rb') as fp:\n",
    "    types['good'] = pickle.load(fp)\n",
    "count = 0"
   ]
  },
  {
   "cell_type": "code",
   "execution_count": 18,
   "id": "5905193a",
   "metadata": {},
   "outputs": [
    {
     "ename": "KeyboardInterrupt",
     "evalue": "",
     "output_type": "error",
     "traceback": [
      "\u001b[1;31m---------------------------------------------------------------------------\u001b[0m",
      "\u001b[1;31mKeyboardInterrupt\u001b[0m                         Traceback (most recent call last)",
      "Cell \u001b[1;32mIn[18], line 1\u001b[0m\n\u001b[1;32m----> 1\u001b[0m las\u001b[38;5;241m.\u001b[39mshow_many(types[\u001b[38;5;124m'\u001b[39m\u001b[38;5;124mgood\u001b[39m\u001b[38;5;124m'\u001b[39m], \u001b[38;5;241m10\u001b[39m, seconds\u001b[38;5;241m=\u001b[39m\u001b[38;5;241m2\u001b[39m)\n",
      "File \u001b[1;32mc:\\Users\\jlaus\\Documents\\Programming\\Laser-Lightshow\\laser.py:132\u001b[0m, in \u001b[0;36mLaser.show_many\u001b[1;34m(self, arr, amp, seconds, tranistion)\u001b[0m\n\u001b[0;32m    129\u001b[0m     \u001b[38;5;28mself\u001b[39m\u001b[38;5;241m.\u001b[39msend([[k[\u001b[38;5;241m0\u001b[39m], k[\u001b[38;5;241m1\u001b[39m], k[\u001b[38;5;241m2\u001b[39m] \u001b[38;5;241m*\u001b[39m j] \u001b[38;5;28;01mfor\u001b[39;00m k \u001b[38;5;129;01min\u001b[39;00m i] \u001b[38;5;241m+\u001b[39m [[\u001b[38;5;124m'\u001b[39m\u001b[38;5;124mXOFF\u001b[39m\u001b[38;5;124m'\u001b[39m, off], [\u001b[38;5;124m'\u001b[39m\u001b[38;5;124mYOFF\u001b[39m\u001b[38;5;124m'\u001b[39m, off], \u001b[38;5;241m*\u001b[39mrgb_rot], first\u001b[38;5;241m=\u001b[39m\u001b[38;5;28;01mFalse\u001b[39;00m)\n\u001b[0;32m    131\u001b[0m \u001b[38;5;28;01mfor\u001b[39;00m j \u001b[38;5;129;01min\u001b[39;00m \u001b[38;5;28mrange\u001b[39m(\u001b[38;5;28mround\u001b[39m(seconds \u001b[38;5;241m*\u001b[39m \u001b[38;5;241m159\u001b[39m)):\n\u001b[1;32m--> 132\u001b[0m     \u001b[38;5;28mself\u001b[39m\u001b[38;5;241m.\u001b[39msend(i \u001b[38;5;241m+\u001b[39m [[\u001b[38;5;124m'\u001b[39m\u001b[38;5;124mG\u001b[39m\u001b[38;5;124m'\u001b[39m, g], [\u001b[38;5;124m'\u001b[39m\u001b[38;5;124mR\u001b[39m\u001b[38;5;124m'\u001b[39m, r], [\u001b[38;5;124m'\u001b[39m\u001b[38;5;124mB\u001b[39m\u001b[38;5;124m'\u001b[39m, b]], first\u001b[38;5;241m=\u001b[39m\u001b[38;5;28;01mFalse\u001b[39;00m)\n\u001b[0;32m    134\u001b[0m \u001b[38;5;28;01mfor\u001b[39;00m j, off \u001b[38;5;129;01min\u001b[39;00m \u001b[38;5;28mzip\u001b[39m(np\u001b[38;5;241m.\u001b[39mlinspace(np\u001b[38;5;241m.\u001b[39mpi\u001b[38;5;241m/\u001b[39m\u001b[38;5;241m2\u001b[39m, \u001b[38;5;241m0\u001b[39m, tranistion), np\u001b[38;5;241m.\u001b[39mlinspace(\u001b[38;5;241m0\u001b[39m, np\u001b[38;5;241m.\u001b[39mpi\u001b[38;5;241m/\u001b[39m\u001b[38;5;241m2\u001b[39m, tranistion)):\n\u001b[0;32m    135\u001b[0m     j \u001b[38;5;241m=\u001b[39m np\u001b[38;5;241m.\u001b[39msin(j)\n",
      "File \u001b[1;32mc:\\Users\\jlaus\\Documents\\Programming\\Laser-Lightshow\\laser.py:114\u001b[0m, in \u001b[0;36mLaser.send\u001b[1;34m(self, arr, types, first)\u001b[0m\n\u001b[0;32m    111\u001b[0m arr_ptr \u001b[38;5;241m=\u001b[39m arr_np\u001b[38;5;241m.\u001b[39mctypes\u001b[38;5;241m.\u001b[39mdata_as(POINTER(c_float))\n\u001b[0;32m    112\u001b[0m types_ptr \u001b[38;5;241m=\u001b[39m types_np\u001b[38;5;241m.\u001b[39mctypes\u001b[38;5;241m.\u001b[39mdata_as(POINTER(c_int))\n\u001b[1;32m--> 114\u001b[0m \u001b[38;5;28mself\u001b[39m\u001b[38;5;241m.\u001b[39mlib\u001b[38;5;241m.\u001b[39msend_to_laser(num_types, arr_ptr, types_ptr, \u001b[38;5;28mint\u001b[39m(first))\n",
      "\u001b[1;31mKeyboardInterrupt\u001b[0m: "
     ]
    }
   ],
   "source": [
    "\n",
    "las.show_many(types['good'], 10, seconds=2)"
   ]
  }
 ],
 "metadata": {
  "kernelspec": {
   "display_name": "base",
   "language": "python",
   "name": "python3"
  },
  "language_info": {
   "codemirror_mode": {
    "name": "ipython",
    "version": 3
   },
   "file_extension": ".py",
   "mimetype": "text/x-python",
   "name": "python",
   "nbconvert_exporter": "python",
   "pygments_lexer": "ipython3",
   "version": "3.12.7"
  }
 },
 "nbformat": 4,
 "nbformat_minor": 5
}
